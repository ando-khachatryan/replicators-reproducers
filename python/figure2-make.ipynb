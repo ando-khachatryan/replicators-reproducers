{
 "cells": [
  {
   "cell_type": "code",
   "execution_count": null,
   "metadata": {},
   "outputs": [],
   "source": [
    "import numpy as np\n",
    "import pandas as pd\n",
    "import plotly.graph_objects as go\n",
    "# from plotly.subplots import make_subplots\n",
    "import plotly.express as px\n",
    "from pathlib import Path\n",
    "from pprint import pprint, pformat\n",
    "import os\n",
    "plots_folder = 'figures'\n",
    "Path(plots_folder).mkdir(parents=True, exist_ok=True)\n",
    "\n",
    "\n",
    "random_seed = 65487\n",
    "np.random.seed(random_seed)"
   ]
  },
  {
   "cell_type": "code",
   "execution_count": null,
   "metadata": {},
   "outputs": [],
   "source": [
    "df_2a = pd.read_csv('data-for-figures/figure2a.csv')\n",
    "df_2b = pd.read_csv('data-for-figures/figure2b.csv')\n",
    "df_2c = pd.read_csv('data-for-figures/figure2c.csv')\n",
    "df_2d = pd.read_csv('data-for-figures/figure2d.csv')\n",
    "\n",
    "def process(df):\n",
    "    df = df.loc[df['type']=='together', :].copy()\n",
    "    df['frac'] = df['high-fidelity']/(df['high-fidelity'] + df['low-fidelity'])\n",
    "    dfg = df.groupby(by=['hi-bm', 'hi-rf'], axis=0, as_index=False).agg(\n",
    "    {\n",
    "        'low-fidelity': ['max', 'mean'] , \n",
    "        'high-fidelity': ['max', 'mean'],\n",
    "        'frac': ['mean', 'var']\n",
    "    })\n",
    "    rfli = sorted(dfg['hi-rf'].unique())\n",
    "    bmli = sorted(dfg['hi-bm'].unique())\n",
    "    frac_reshaped = dfg[('frac', 'mean')].values.reshape((len(bmli), len(rfli))).T\n",
    "    return frac_reshaped, bmli, rfli\n",
    "\n",
    "# df_2a = process(df_2a)\n",
    "# df_2b = process(df_2b)\n",
    "# df_2c = process(df_2c)\n",
    "# df_2d = process(df_2d)\n"
   ]
  },
  {
   "cell_type": "code",
   "execution_count": null,
   "metadata": {},
   "outputs": [],
   "source": [
    "for df, name in zip(\n",
    "    [df_2a, df_2b, df_2c, df_2d],\n",
    "    ['figure2a', 'figure2b', 'figure2c', 'figure2d']):\n",
    "\n",
    "    frac_reshaped, bmli, rfli = process(df)\n",
    "    fig = px.imshow(frac_reshaped,\n",
    "                    labels=dict(x = r'$\\Large{{\\Delta E}, \\text { housekeeping cost}}$',\n",
    "                                y = r'$\\Large{p, \\text{ prob. of successful reproduction}}$', \n",
    "                                color=r\"Relative<br>abundance\"),\n",
    "                    x=bmli,\n",
    "                    y=rfli, \n",
    "                    origin='lower'\n",
    "                   )\n",
    "    fig.update_layout({\n",
    "        'font': {'size': 16},\n",
    "        'height': 600,\n",
    "        'width': 800,\n",
    "    #     'xaxis_range': [0.205, 0.34]\n",
    "    }\n",
    "    )    \n",
    "    fig.show()\n",
    "    fig.write_image(os.path.join(plots_folder, name + '.svg'))\n",
    "# fig.show()\n"
   ]
  },
  {
   "cell_type": "code",
   "execution_count": null,
   "metadata": {},
   "outputs": [],
   "source": []
  }
 ],
 "metadata": {
  "kernelspec": {
   "display_name": "repl",
   "language": "python",
   "name": "repl"
  },
  "language_info": {
   "codemirror_mode": {
    "name": "ipython",
    "version": 3
   },
   "file_extension": ".py",
   "mimetype": "text/x-python",
   "name": "python",
   "nbconvert_exporter": "python",
   "pygments_lexer": "ipython3",
   "version": "3.9.16"
  },
  "vscode": {
   "interpreter": {
    "hash": "bdc5bee536d6e463618c6454c30fbaf3ca783f44e54f54aa5d1a15148cfa8813"
   }
  }
 },
 "nbformat": 4,
 "nbformat_minor": 4
}
